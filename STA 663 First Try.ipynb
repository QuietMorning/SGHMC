{
 "cells": [
  {
   "cell_type": "code",
   "execution_count": 82,
   "metadata": {},
   "outputs": [],
   "source": [
    "import numpy as np\n",
    "from functools import partial\n",
    "import matplotlib.pyplot as plt\n",
    "import seaborn as sns"
   ]
  },
  {
   "cell_type": "code",
   "execution_count": 10,
   "metadata": {},
   "outputs": [],
   "source": [
    "def sghmc(U_grad, theta_init, M, C, V_hat, epsilon, T, m):\n",
    "    \"\"\"\n",
    "    Stochastic Gradient Hamiltonian Monte Carlo Sampling.\n",
    "    Based on Chen, Tianqi, Emily Fox, and Carlos Guestrin (2014)\n",
    "    --------------------\n",
    "    \n",
    "    Dimensions\n",
    "    -----------\n",
    "    d: number of parameters\n",
    "    T: length of samples\n",
    "    \n",
    "    Input\n",
    "    ------\n",
    "    U_grad: callable \n",
    "        Stochastic gradient estimates of posterior density with respect to distribution parameters \n",
    "        'U_grad_tilde(D, logp_data_grad, logp_prior_grad, mb_size, theta)' when the gradient is unknown\n",
    "    \n",
    "    theta_init: d-by-1 np array\n",
    "        The inital sampling point\n",
    "        \n",
    "    M: d-by-d np array\n",
    "        A mass matrix\n",
    "    \n",
    "    C: d-by-d np array\n",
    "        A user specified friction term, should be greater than B_hat = 0.5*epsilon*V_hat \n",
    "        in the sense of in the sense of positive semi-definiteness\n",
    "    \n",
    "    V_hat: d-by-d np array\n",
    "        Empirical Fisher information of theta\n",
    "        \n",
    "    epsilon: float\n",
    "        Step size\n",
    "    \n",
    "    T: int\n",
    "        Number of samples drawn from the desired distribution\n",
    "        \n",
    "    m: int\n",
    "        Number of steps for each draw\n",
    "    \n",
    "    \n",
    "    Output\n",
    "    ------\n",
    "    theta_s: T-by-d np array\n",
    "        Draws sampled from the desired distrition\n",
    "    \n",
    "    r_s: T-by-d np array\n",
    "        Draws of the momentun variables\n",
    "    \n",
    "    \"\"\"\n",
    "    d = len(theta_init)\n",
    "    theta_s = np.zeros((T, d))\n",
    "    r_s = np.zeros((T, d))\n",
    "    theta_s[0] = theta_init\n",
    "    M_inv = np.linalg.inv(M)\n",
    "    B_hat = 0.5*epsilon*V_hat\n",
    "    \n",
    "    if d > 1:\n",
    "        sd = np.linalg.cholesky(2*epsilon*(C-B_hat))\n",
    "        r_s = np.random.multivariate_normal(np.zeros(d),M, size = T)\n",
    "    elif d==1:\n",
    "        sd = np.sqrt(2*epsilon*(C-B_hat))\n",
    "        r_s = np.sqrt(M)*np.random.randn(T).reshape(T,1)\n",
    "    \n",
    "    for t in range(T-1):\n",
    "        theta0 = theta_s[t]\n",
    "        r0 = r_s[t]\n",
    "        for i in range(m):\n",
    "            theta0 = theta0 + epsilon*np.dot(M_inv,r0)\n",
    "            r0 = r0 - epsilon*U_grad(theta0) - epsilon*np.dot(np.dot(C,M_inv),r0) +  np.dot(sd,np.random.randn(d))\n",
    "        theta_s[t+1] = theta0\n",
    "    \n",
    "    return [theta_s,r_s]"
   ]
  },
  {
   "cell_type": "code",
   "execution_count": 11,
   "metadata": {},
   "outputs": [],
   "source": [
    "def U_grad_tilde(theta, data, logp_data_grad, logp_prior_grad, mb_size):\n",
    "    \"\"\"\n",
    "    Stochastic gradient estimates of posterior density with respect to distribution parameters\n",
    "    Based on a minibatch D_hat sampled uniformly at random from D\n",
    "    ------------------------\n",
    "    \n",
    "    Dimensions\n",
    "    -----------\n",
    "    n: number of observations from the data\n",
    "    m: dimension of the data\n",
    "\n",
    "    Input\n",
    "    -----\n",
    "    D: n-by-m np array\n",
    "        Dataset\n",
    "        \n",
    "    logp_data_grad: callable 'logp_data_grad(data, theta)'\n",
    "        Gradient of likelihood of the data with respect to distribution parameters\n",
    "    \n",
    "    logp_prior_grad: callable 'logp_prior_grad(theta)'\n",
    "        Gradient of prior with respect to distribution parameters\n",
    "    \n",
    "    mb_size: int\n",
    "        Size of the minibatch\n",
    "    \n",
    "    theta: d-by-1 np array\n",
    "        Distribution parameters\n",
    "    \n",
    "    Output\n",
    "    -----\n",
    "    U_tilde: d-by-1 np array\n",
    "        Stochastic gradient estimates of posterior density with respect to distribution parameters\n",
    "    \"\"\"\n",
    "    n = data.shape[0]\n",
    "    data_hat = data[np.random.choice(range(n), size = mb_size, replace = False)]\n",
    "    U_tilde = -(n/mb_size)*logp_data_grad(data_hat, theta) - logp_prior_grad(theta)\n",
    "    return U_tilde\n",
    "\n"
   ]
  },
  {
   "cell_type": "code",
   "execution_count": 12,
   "metadata": {},
   "outputs": [],
   "source": [
    "def sghmc_naive(U_grad, U, theta_init, M, V_hat, epsilon, T, m, MH=True, resample=False):\n",
    "    \"\"\"\n",
    "    Naive Stochastic Gradient Hamiltonian Monte Carlo Sampling.\n",
    "    --------------------\n",
    "    \n",
    "    Input\n",
    "    ------\n",
    "    U_grad: callable \n",
    "        Stochastic gradient estimates of posterior density with respect to distribution parameters \n",
    "        'U_grad_tilde(D, logp_data_grad, logp_prior_grad, mb_size, theta)' when the gradient is unknown\n",
    "    \n",
    "    U: callable\n",
    "        Potential energy function\n",
    "    \n",
    "    theta_init: d-by-1 np array\n",
    "        The inital sampling point\n",
    "        \n",
    "    M: d-by-d np array\n",
    "        A mass matrix\n",
    "    \n",
    "    V_hat: d-by-d np array\n",
    "        Empirical Fisher information of theta\n",
    "        \n",
    "    epsilon: float\n",
    "        Step size\n",
    "    \n",
    "    T: int\n",
    "        Number of samples drawn from the desired distribution\n",
    "        \n",
    "    m: int\n",
    "        Number of steps for each draw\n",
    "    \n",
    "    MH: Boolean\n",
    "        Whether to incorporate a Metropolis-Hasting correction\n",
    "    \n",
    "    resample: Boolean\n",
    "        Whether to resample the momentum variables \n",
    "    \n",
    "    Output\n",
    "    ------\n",
    "    theta_s: T-by-d np array\n",
    "        Draws sampled from the desired distrition\n",
    "    \n",
    "    r_s: T-by-d np array\n",
    "        Draws of the momentun variables\n",
    "    \n",
    "    \"\"\"\n",
    "\n",
    "    d = len(theta_init)\n",
    "    theta_s = np.zeros((T, d))\n",
    "    theta_s[0] = theta_init\n",
    "    M_inv = np.linalg.inv(M)\n",
    "    B_hat = 0.5*epsilon*V_hat\n",
    "    \n",
    "    if d > 1:\n",
    "        sd = np.linalg.cholesky(2*epsilon*B_hat)\n",
    "        r_s = np.random.multivariate_normal(np.zeros(d),M, size = T)\n",
    "    elif d==1:\n",
    "        sd = np.sqrt(2*epsilon*B_hat)\n",
    "        r_s = np.sqrt(M)*np.random.randn(T).reshape(T,1)\n",
    "    \n",
    "    for t in range(T-1):\n",
    "        theta0 = theta_s[t]\n",
    "        r0 = r_s[t]\n",
    "        \n",
    "        for i in range(m):\n",
    "            theta0 = theta0 + epsilon*np.dot(M_inv,r0)\n",
    "            r0 = r0 - epsilon*U_grad(theta0) + np.dot(sd,np.random.randn(d))\n",
    "               \n",
    "        ## M-H correction \n",
    "        if MH==True:\n",
    "            u = np.random.rand(1)\n",
    "            H1 = U(theta_s[t]) + 0.5*np.dot(np.dot(r_s[t],M_inv),r_s[t])\n",
    "            H2 = U(theta0) + 0.5*np.dot(np.dot(r0,M_inv),r0)\n",
    "            rho = np.exp(H1-H2)\n",
    "            if u < np.minimum(1,rho):\n",
    "                theta_s[t+1] = theta0\n",
    "                if resample==False: \n",
    "                    r_s[t+1] = r0\n",
    "            else:\n",
    "                theta_s[t+1] = theta_s[t]\n",
    "                if resample==False: \n",
    "                    r_s[t+1] = r_s[t]\n",
    "        else:\n",
    "            theta_s[t+1] = theta0\n",
    "            if resample==False:\n",
    "                r_s[t+1] = r0\n",
    "    \n",
    "    return [theta_s,r_s]"
   ]
  },
  {
   "cell_type": "code",
   "execution_count": 13,
   "metadata": {},
   "outputs": [],
   "source": [
    "def hmc(U_grad, U, theta_init, M, epsilon, T, m, MH=True, resample=False):\n",
    "    \"\"\"\n",
    "    Hamiltonian Monte Carlo Sampling.\n",
    "    --------------------\n",
    "    \n",
    "    Input\n",
    "    ------\n",
    "    U_grad: callable \n",
    "        Gradient of U with respect to distribution parameters \n",
    "    \n",
    "    U: callable\n",
    "        Potential energy function\n",
    "    \n",
    "    theta_init: d-by-1 np array\n",
    "        The inital sampling point\n",
    "        \n",
    "    M: d-by-d np array\n",
    "        A mass matrix\n",
    "    \n",
    "    epsilon: float\n",
    "        Step size\n",
    "    \n",
    "    T: int\n",
    "        Number of samples drawn from the desired distribution\n",
    "        \n",
    "    m: int\n",
    "        Number of steps for each draw\n",
    "    \n",
    "    MH: Boolean\n",
    "        Whether to incorporate a Metropolis-Hasting correction\n",
    "    \n",
    "    resample: Boolean\n",
    "        Whether to resample the momentum variables \n",
    "    \n",
    "    Output\n",
    "    ------\n",
    "    theta_s: T-by-d np array\n",
    "        Draws sampled from the desired distrition\n",
    "    \n",
    "    r_s: T-by-d np array\n",
    "        Draws of the momentun variables\n",
    "    \n",
    "    \"\"\"\n",
    "    d = len(theta_init) \n",
    "    theta_s = np.zeros((T, d))\n",
    "    theta_s[0] = theta_init\n",
    "    M_inv = np.linalg.inv(M)\n",
    "\n",
    "    if d > 1:\n",
    "        r_s = np.random.multivariate_normal(np.zeros(d),M, size=T)\n",
    "    elif d==1:\n",
    "        r_s = np.sqrt(M)*np.random.randn(T).reshape(T,1)\n",
    "        \n",
    "    for t in range(T-1):\n",
    "\n",
    "        theta0 = theta_s[t]\n",
    "        r0 = r_s[t]\n",
    "        \n",
    "        ## leapfrog\n",
    "        r0 = r0 - 0.5*epsilon*U_grad(theta0)\n",
    "        for i in range(m-1):\n",
    "            theta0 = theta0 + epsilon*np.dot(M_inv,r0)\n",
    "            r0 = r0 - epsilon*U_grad(theta0)\n",
    "        theta0 = theta0 + epsilon*np.dot(M_inv,r0)\n",
    "        r0 = r0 - 0.5*epsilon*U_grad(theta0) \n",
    "        \n",
    "        ## M-H correction \n",
    "        if MH==True:\n",
    "            u = np.random.rand(1)\n",
    "            H1 = U(theta_s[t]) + 0.5*np.dot(np.dot(r_s[t],M_inv),r_s[t])\n",
    "            H2 = U(theta0) + 0.5*np.dot(np.dot(r0,M_inv),r0)\n",
    "            rho = np.exp(H1-H2)\n",
    "            if u < np.minimum(1,rho):\n",
    "                theta_s[t+1] = theta0\n",
    "                if resample==False: \n",
    "                    r_s[t+1] = r0\n",
    "            else:\n",
    "                theta_s[t+1] = theta_s[t]\n",
    "                if resample==False: \n",
    "                    r_s[t+1] = r_s[t]\n",
    "        else:\n",
    "            theta_s[t+1] = theta0\n",
    "            if resample==False:\n",
    "                r_s[t+1] = r0\n",
    "\n",
    "    return [theta_s,r_s]"
   ]
  },
  {
   "cell_type": "code",
   "execution_count": 15,
   "metadata": {},
   "outputs": [],
   "source": [
    "### Figure 1\n",
    "\n",
    "## potential energy function\n",
    "U = lambda x:  -2*x**2 + x**4\n",
    "gradU =  lambda x: -4 * x +  4 * x**3 \n",
    "\n",
    "\n",
    "## parameters\n",
    "theta_init = np.array([0])\n",
    "M = np.eye(1)\n",
    "epsilon=0.1\n",
    "T=15000\n",
    "m=50\n",
    "V = np.array([4])\n",
    "C = np.array([3]) \n",
    "V_hat = np.array([4])\n",
    "\n",
    "\n",
    "## true distribution\n",
    "xs = np.linspace(-2,2,200)\n",
    "ys = np.exp(-U(xs))\n",
    "ys = (ys/sum(ys))/(xs[1]-xs[0])"
   ]
  },
  {
   "cell_type": "code",
   "execution_count": 19,
   "metadata": {},
   "outputs": [
    {
     "name": "stdout",
     "output_type": "stream",
     "text": [
      "CPU times: user 15.8 s, sys: 0 ns, total: 15.8 s\n",
      "Wall time: 15.8 s\n"
     ]
    }
   ],
   "source": [
    "%%time\n",
    "theta_sghmc1, r_sghmc1 = sghmc(gradU, theta_init, M , C , V_hat, epsilon, T, m)"
   ]
  },
  {
   "cell_type": "code",
   "execution_count": 20,
   "metadata": {},
   "outputs": [
    {
     "name": "stdout",
     "output_type": "stream",
     "text": [
      "CPU times: user 8.45 s, sys: 12 ms, total: 8.46 s\n",
      "Wall time: 8.42 s\n"
     ]
    }
   ],
   "source": [
    "%%time\n",
    "theta_hmc_mh1, r_hmc_mh1 = hmc(gradU, U, theta_init, M, epsilon, T, m, MH=True, resample=True)"
   ]
  },
  {
   "cell_type": "code",
   "execution_count": 21,
   "metadata": {},
   "outputs": [
    {
     "name": "stdout",
     "output_type": "stream",
     "text": [
      "CPU times: user 7.96 s, sys: 60 ms, total: 8.02 s\n",
      "Wall time: 7.95 s\n"
     ]
    }
   ],
   "source": [
    "%%time\n",
    "theta_hmc_nomh1, r_hmc_mh1 = hmc(gradU, U, theta_init, M, epsilon, T, m, MH=False, resample=True)"
   ]
  },
  {
   "cell_type": "code",
   "execution_count": 22,
   "metadata": {},
   "outputs": [
    {
     "name": "stdout",
     "output_type": "stream",
     "text": [
      "CPU times: user 12.4 s, sys: 4 ms, total: 12.4 s\n",
      "Wall time: 12.4 s\n"
     ]
    }
   ],
   "source": [
    "%%time\n",
    "theta_sghmc_naive_mh1, r_sghmc_naive_mh1 = sghmc_naive(gradU, U, theta_init, M, V, epsilon, T, m, MH=True, resample=True)"
   ]
  },
  {
   "cell_type": "code",
   "execution_count": 23,
   "metadata": {},
   "outputs": [
    {
     "name": "stdout",
     "output_type": "stream",
     "text": [
      "CPU times: user 12.2 s, sys: 4 ms, total: 12.2 s\n",
      "Wall time: 12.2 s\n"
     ]
    }
   ],
   "source": [
    "%%time\n",
    "theta_sghmc_naive_nomh1, r_sghmc_naive_nomh1 = sghmc_naive(gradU, U, theta_init, M, V, epsilon, T, m, MH=False, resample=True)"
   ]
  },
  {
   "cell_type": "code",
   "execution_count": 39,
   "metadata": {},
   "outputs": [
    {
     "data": {
      "image/png": "[encoded data removed]",
      "text/plain": [
       "<Figure size 432x288 with 1 Axes>"
      ]
     },
     "metadata": {},
     "output_type": "display_data"
    }
   ],
   "source": [
    "### Figure 1\n",
    "plt.plot(xs, ys, color = 'blue', label = 'True Distribution')\n",
    "sns.distplot(theta_hmc_mh1, hist = False, color = 'orange', label = 'Standard HMC (with MH)')\n",
    "sns.distplot(theta_hmc_nomh1, hist = False, color = 'red', kde_kws={'linestyle':'-.'}, label = 'Standard HMC (no MH)')\n",
    "sns.distplot(theta_sghmc_naive_mh1, hist = False, color = 'pink', label = 'Naive SGHMC (with MH)')\n",
    "sns.distplot(theta_sghmc_naive_nomh1, hist = False, color = 'black', kde_kws={'linestyle':'-.'}, label = 'Naive SGHMC (no MH)')\n",
    "sns.distplot(theta_sghmc1, hist = False, color = 'green', label = 'SGHMC')\n",
    "plt.axis([-2, 2, 0, 0.8,])\n",
    "plt.legend(loc='center left', bbox_to_anchor=(1, 0.5))\n",
    "plt.xlabel('$\\\\theta$')\n",
    "plt.show() #T=15000, m=50"
   ]
  },
  {
   "cell_type": "code",
   "execution_count": 32,
   "metadata": {},
   "outputs": [],
   "source": [
    "### Figure 2\n",
    "U2 = lambda x: 1/2*x**2\n",
    "gradU2 = lambda x: x\n",
    "\n",
    "theta_init = np.array([0])\n",
    "M = np.eye(1)\n",
    "epsilon=0.1\n",
    "T=300\n",
    "m=50\n",
    "V = np.array([4])\n",
    "C = np.array([3]) \n",
    "V_hat = np.array([4])"
   ]
  },
  {
   "cell_type": "code",
   "execution_count": 40,
   "metadata": {},
   "outputs": [],
   "source": [
    "theta_sghmc, r_sghmc = sghmc(gradU2, theta_init, M , C , V_hat, epsilon, T, m)\n",
    "theta_hmc, r_hmc = hmc(gradU2, U2, theta_init, M, epsilon, T, m, MH=False)\n",
    "theta_sghmc_naive_nor, r_sghmc_naive_nor = sghmc_naive(gradU2, U2, theta_init, M, V, epsilon, 1000, m, MH=False, resample=False)\n",
    "theta_sghmc_naive, r_sghmc_naive = sghmc_naive(gradU2, U2, theta_init, M, V, epsilon, T, m, MH=False, resample=True)"
   ]
  },
  {
   "cell_type": "code",
   "execution_count": 46,
   "metadata": {},
   "outputs": [
    {
     "data": {
      "image/png": "[encoded data removed]",
      "text/plain": [
       "<Figure size 432x288 with 1 Axes>"
      ]
     },
     "metadata": {},
     "output_type": "display_data"
    }
   ],
   "source": [
    "### Figure 2\n",
    "plt.scatter(theta_sghmc_naive_nor[1000-T:], r_sghmc_naive_nor[1000-T:], color = 'red', marker = 'v', s=9, label = 'Noisy Hamiltonian dynamics')\n",
    "plt.scatter(theta_sghmc_naive, r_sghmc_naive, color = 'black', marker = 'o', s=9, label = 'Noisy Hamiltonian dynamics(resample r)')\n",
    "plt.scatter(theta_sghmc, r_sghmc, color = 'green', marker = 's', s=9, label = 'Noisy Hamiltonian dynamics with friction')\n",
    "plt.scatter(theta_hmc, r_hmc, color = 'blue', marker = 'x', s=9, label = 'Hamiltonian dynamics')\n",
    "plt.axis([-8, 8, -8, 8,])\n",
    "plt.xlabel('$\\\\theta$')\n",
    "plt.ylabel('$r$')\n",
    "plt.legend(loc='center left', bbox_to_anchor=(1, 0.5))\n",
    "plt.show() #T=300, m=50"
   ]
  },
  {
   "cell_type": "code",
   "execution_count": 47,
   "metadata": {},
   "outputs": [],
   "source": [
    "sigma = np.array([[1, 0.9],[0.9, 1]])\n",
    "U3 = lambda x: 0.5 * x.T @ np.linalg.inv(sigma) @ x\n",
    "gradU3 = lambda x: np.linalg.inv(sigma) @ x + np.random.multivariate_normal(np.array([0,0]), np.eye(2))\n",
    "\n",
    "theta_init = np.array([0,0])\n",
    "M = np.eye(2)\n",
    "epsilon=0.1\n",
    "T=50\n",
    "m=50\n",
    "V = V_hat = np.eye(2)\n",
    "C = 3*np.eye(2)"
   ]
  },
  {
   "cell_type": "code",
   "execution_count": 48,
   "metadata": {},
   "outputs": [],
   "source": [
    "theta_sghmc3, r_sghmc3 = sghmc(gradU3, theta_init, M , C , V_hat, epsilon, T, m)"
   ]
  },
  {
   "cell_type": "code",
   "execution_count": 54,
   "metadata": {},
   "outputs": [],
   "source": [
    "theta_hmc_mh3, r_hmc_mh3 = hmc(gradU3, U3, theta_init, M, epsilon, T, m, MH=True, resample=True)"
   ]
  },
  {
   "cell_type": "code",
   "execution_count": 56,
   "metadata": {},
   "outputs": [],
   "source": [
    "theta_sghmc_naive_mh3, r_sghmc_naive_mh3 = sghmc_naive(gradU3, U3, theta_init, M, V, epsilon, T, m, MH=True, resample=True)"
   ]
  },
  {
   "cell_type": "code",
   "execution_count": 63,
   "metadata": {},
   "outputs": [
    {
     "data": {
      "image/png": "[encoded data removed]",
      "text/plain": [
       "<Figure size 432x288 with 1 Axes>"
      ]
     },
     "metadata": {},
     "output_type": "display_data"
    }
   ],
   "source": [
    "### Figure 3\n",
    "xs = ys = np.linspace(-2, 3, 100)\n",
    "x, y = np.meshgrid(xs, ys)\n",
    "s_inv = np.linalg.inv(sigma)\n",
    "z = np.exp(-0.5*(s_inv[0,0]*x**2 + 2*s_inv[1,0]*x*y + s_inv[1,1]*y**2))\n",
    "plt.contour(x, y, z)\n",
    "#plt.scatter(theta_hmc_mh3[:,0], theta_hmc_mh3[:,1], s = 10, color = 'blue', marker = 'x', label = 'HMC')\n",
    "plt.scatter(theta_sghmc_naive_mh3[:,0], theta_sghmc_naive_mh3[:,1], s = 10, color = 'green', marker = 'v', label = 'naive SGHMC')\n",
    "plt.scatter(theta_sghmc3[:,0], theta_sghmc3[:,1], s = 10, color = 'red', marker = 'o', label = 'SGHMC')\n",
    "plt.legend(loc='center left', bbox_to_anchor=(1, 0.5))\n",
    "plt.xlabel('$x$')\n",
    "plt.ylabel('$y$')\n",
    "plt.show()"
   ]
  },
  {
   "cell_type": "code",
   "execution_count": null,
   "metadata": {},
   "outputs": [],
   "source": []
  },
  {
   "cell_type": "code",
   "execution_count": null,
   "metadata": {},
   "outputs": [],
   "source": []
  },
  {
   "cell_type": "code",
   "execution_count": 83,
   "metadata": {},
   "outputs": [],
   "source": [
    "p = 5\n",
    "true_theta = np.arange(p)\n",
    "size = 10000\n",
    "X = np.random.randn(size,p)\n",
    "y = np.dot(X,true_theta) + np.random.randn(size)\n",
    "data = np.c_[y,X]"
   ]
  },
  {
   "cell_type": "code",
   "execution_count": 84,
   "metadata": {},
   "outputs": [],
   "source": [
    "logp_prior_grad = lambda theta: -theta # prior N(0,1)\n",
    "\n",
    "def logp_data_grad(data, theta):\n",
    "    \"\"\"\n",
    "    log likelihood of a linear regression \n",
    "    --------------\n",
    "    \n",
    "    Assume that the first column of the data is the predicted variable\n",
    "    \"\"\"\n",
    "    X = data[:,1:]\n",
    "    y = data[:,0]\n",
    "    return np.dot(X.T,y) - np.dot(np.dot(X.T,X),theta)"
   ]
  },
  {
   "cell_type": "code",
   "execution_count": 85,
   "metadata": {},
   "outputs": [],
   "source": [
    "gradU = partial(U_grad_tilde, data=data, logp_data_grad=logp_data_grad, logp_prior_grad=logp_prior_grad, mb_size=1000)\n",
    "gradU2 = partial(U_grad_tilde, data=data, logp_data_grad=logp_data_grad, logp_prior_grad=logp_prior_grad, mb_size=size)"
   ]
  },
  {
   "cell_type": "code",
   "execution_count": 86,
   "metadata": {},
   "outputs": [],
   "source": [
    "theta_init = np.zeros(p)\n",
    "M = np.eye(p)\n",
    "C = 13*np.eye(p)\n",
    "V_hat = 0\n",
    "T = 1000\n",
    "m = 50\n",
    "epsilon = 0.0001\n",
    "theta_sghmc4, r_sghmc4 = sghmc(gradU, theta_init, M, C, V_hat, epsilon, T, m)"
   ]
  },
  {
   "cell_type": "code",
   "execution_count": 88,
   "metadata": {},
   "outputs": [
    {
     "data": {
      "text/plain": [
       "array([0.00438686, 0.98860674, 1.96770329, 2.97661543, 3.93857378])"
      ]
     },
     "execution_count": 88,
     "metadata": {},
     "output_type": "execute_result"
    }
   ],
   "source": [
    "theta_sghmc4.mean(axis=0)  ## very close to the true parameters"
   ]
  },
  {
   "cell_type": "code",
   "execution_count": 90,
   "metadata": {},
   "outputs": [],
   "source": [
    "theta_hmc4, r_hmc4 = hmc(gradU, U, theta_init, M, epsilon, T, m, MH=False, resample=False)"
   ]
  },
  {
   "cell_type": "code",
   "execution_count": 91,
   "metadata": {},
   "outputs": [
    {
     "data": {
      "text/plain": [
       "array([-2.89326698e-03,  9.99432234e-01,  1.98625050e+00,  2.99924998e+00,\n",
       "        3.96817053e+00])"
      ]
     },
     "execution_count": 91,
     "metadata": {},
     "output_type": "execute_result"
    }
   ],
   "source": [
    "theta_hmc4.mean(axis=0)  ## performs even better, the reason could be that all observations are independent"
   ]
  },
  {
   "cell_type": "code",
   "execution_count": null,
   "metadata": {},
   "outputs": [],
   "source": []
  }
 ],
 "metadata": {
  "kernelspec": {
   "display_name": "Python 3",
   "language": "python",
   "name": "python3"
  },
  "language_info": {
   "codemirror_mode": {
    "name": "ipython",
    "version": 3
   },
   "file_extension": ".py",
   "mimetype": "text/x-python",
   "name": "python",
   "nbconvert_exporter": "python",
   "pygments_lexer": "ipython3",
   "version": "3.6.10"
  }
 },
 "nbformat": 4,
 "nbformat_minor": 2
}
