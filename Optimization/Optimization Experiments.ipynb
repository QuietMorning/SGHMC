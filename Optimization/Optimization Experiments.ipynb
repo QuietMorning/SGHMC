{
 "cells": [
  {
   "cell_type": "code",
   "execution_count": 19,
   "metadata": {},
   "outputs": [],
   "source": [
    "import numpy as np\n",
    "from functools import partial\n",
    "import matplotlib.pyplot as plt\n",
    "import seaborn as sns\n",
    "import time\n",
    "import numba\n",
    "from numba import njit"
   ]
  },
  {
   "cell_type": "code",
   "execution_count": 27,
   "metadata": {},
   "outputs": [],
   "source": [
    "def sghmc_with_grad(U_grad, theta_init, M, C, V_hat, epsilon, T, m):\n",
    "    \"\"\"\n",
    "    Stochastic Gradient Hamiltonian Monte Carlo Sampling.\n",
    "    Based on Chen, Tianqi, Emily Fox, and Carlos Guestrin (2014)\n",
    "    --------------------\n",
    "    \n",
    "    Dimensions\n",
    "    -----------\n",
    "    d: number of parameters\n",
    "    T: length of samples\n",
    "    \n",
    "    Input\n",
    "    ------\n",
    "    U_grad: callable \n",
    "        Stochastic gradient estimates of posterior density with respect to distribution parameters \n",
    "        'U_grad_tilde(D, logp_data_grad, logp_prior_grad, mb_size, theta)' when the gradient is unknown\n",
    "    \n",
    "    theta_init: d-by-1 np array\n",
    "        The inital sampling point\n",
    "        \n",
    "    M: d-by-d np array\n",
    "        A mass matrix\n",
    "    \n",
    "    C: d-by-d np array\n",
    "        A user specified friction term, should be greater than B_hat = 0.5*epsilon*V_hat \n",
    "        in the sense of in the sense of positive semi-definiteness\n",
    "    \n",
    "    V_hat: d-by-d np array\n",
    "        Empirical Fisher information of theta\n",
    "        \n",
    "    epsilon: float\n",
    "        Step size\n",
    "    \n",
    "    T: int\n",
    "        Number of samples drawn from the desired distribution\n",
    "        \n",
    "    m: int\n",
    "        Number of steps for each draw\n",
    "    \n",
    "    \n",
    "    Output\n",
    "    ------\n",
    "    theta_s: T-by-d np array\n",
    "        Draws sampled from the desired distrition\n",
    "    \n",
    "    r_s: T-by-d np array\n",
    "        Draws of the momentun variables\n",
    "    \n",
    "    \"\"\"\n",
    "    d = len(theta_init)\n",
    "    theta_s = np.zeros((T, d))\n",
    "    r_s = np.zeros((T, d))\n",
    "    theta_s[0] = theta_init\n",
    "    M_inv = np.linalg.inv(M)\n",
    "    B_hat = 0.5*epsilon*V_hat\n",
    "    \n",
    "    if d > 1:\n",
    "        sd = np.linalg.cholesky(2*epsilon*(C-B_hat))\n",
    "        r_s = np.random.multivariate_normal(np.zeros(d),M, size = T)\n",
    "    elif d==1:\n",
    "        sd = np.sqrt(2*epsilon*(C-B_hat))\n",
    "        r_s = np.sqrt(M)*np.random.randn(T).reshape(T,1)\n",
    "    \n",
    "    for t in range(T-1):\n",
    "        theta0 = theta_s[t]\n",
    "        r0 = r_s[t]\n",
    "        for i in range(m):\n",
    "            theta0 = theta0 + epsilon*np.dot(M_inv,r0)\n",
    "            r0 = r0 - epsilon*U_grad(theta0) - epsilon*np.dot(np.dot(C,M_inv),r0) +  np.dot(sd,np.random.randn(d))\n",
    "        theta_s[t+1] = theta0\n",
    "    \n",
    "    return [theta_s,r_s]"
   ]
  },
  {
   "cell_type": "code",
   "execution_count": 28,
   "metadata": {},
   "outputs": [],
   "source": [
    "## potential energy function\n",
    "U = lambda x:  -2*x**2 + x**4\n",
    "gradU =  lambda x: -4 * x +  4 * x**3 \n",
    "\n",
    "\n",
    "## parameters\n",
    "theta_init = np.array([0])\n",
    "M = np.eye(1)\n",
    "epsilon=0.1\n",
    "T=10000\n",
    "m=50\n",
    "V = np.array([4])\n",
    "C = np.array([3]) \n",
    "V_hat = np.array([4])\n",
    "\n",
    "\n",
    "## true distribution\n",
    "xs = np.linspace(-2,2,200)\n",
    "ys = np.exp(-U(xs))\n",
    "ys = (ys/sum(ys))/(xs[1]-xs[0])"
   ]
  },
  {
   "cell_type": "code",
   "execution_count": null,
   "metadata": {},
   "outputs": [],
   "source": [
    "%%time\n",
    "theta, r = sghmc_with_grad(gradU, theta_init, M, C, V_hat, epsilon, T, m)"
   ]
  },
  {
   "cell_type": "code",
   "execution_count": 29,
   "metadata": {},
   "outputs": [
    {
     "name": "stdout",
     "output_type": "stream",
     "text": [
      " \n",
      "*** Profile stats marshalled to file 'sghmc1.prof'. \n"
     ]
    }
   ],
   "source": [
    "%prun -q -D sghmc1.prof sghmc_with_grad(gradU, theta_init, M, C, V_hat, epsilon, T, m)"
   ]
  },
  {
   "cell_type": "code",
   "execution_count": 30,
   "metadata": {},
   "outputs": [
    {
     "name": "stdout",
     "output_type": "stream",
     "text": [
      "Sun Apr 25 19:29:48 2021    sghmc1.prof\n",
      "\n",
      "         6999330 function calls in 25.250 seconds\n",
      "\n",
      "   Ordered by: internal time\n",
      "\n",
      "   ncalls  tottime  percall  cumtime  percall filename:lineno(function)\n",
      "        1    8.576    8.576   25.250   25.250 <ipython-input-27-62c79aa19318>:1(sghmc_with_grad)\n",
      "  1999800    6.007    0.000   11.605    0.000 <__array_function__ internals>:2(dot)\n",
      "   499950    3.793    0.000    3.793    0.000 <ipython-input-28-aa50056b54bc>:3(<lambda>)\n",
      "  1999801    3.767    0.000    3.767    0.000 {built-in method numpy.core._multiarray_umath.implement_array_function}\n",
      "  1999800    1.832    0.000    1.832    0.000 /opt/conda/lib/python3.6/site-packages/numpy/core/multiarray.py:707(dot)\n",
      "   499951    1.275    0.000    1.275    0.000 {method 'randn' of 'numpy.random.mtrand.RandomState' objects}\n",
      "        2    0.001    0.000    0.001    0.000 {built-in method numpy.zeros}\n",
      "        1    0.000    0.000    0.000    0.000 /opt/conda/lib/python3.6/site-packages/numpy/linalg/linalg.py:482(inv)\n",
      "        1    0.000    0.000   25.250   25.250 {built-in method builtins.exec}\n",
      "        1    0.000    0.000    0.000    0.000 /opt/conda/lib/python3.6/site-packages/numpy/linalg/linalg.py:116(_makearray)\n",
      "        1    0.000    0.000    0.000    0.000 /opt/conda/lib/python3.6/site-packages/numpy/linalg/linalg.py:144(_commonType)\n",
      "        1    0.000    0.000   25.250   25.250 <string>:1(<module>)\n",
      "        1    0.000    0.000    0.000    0.000 <__array_function__ internals>:2(inv)\n",
      "        1    0.000    0.000    0.000    0.000 /opt/conda/lib/python3.6/site-packages/numpy/linalg/linalg.py:134(_realType)\n",
      "        1    0.000    0.000    0.000    0.000 {method 'astype' of 'numpy.ndarray' objects}\n",
      "        2    0.000    0.000    0.000    0.000 /opt/conda/lib/python3.6/site-packages/numpy/linalg/linalg.py:121(isComplexType)\n",
      "        1    0.000    0.000    0.000    0.000 /opt/conda/lib/python3.6/site-packages/numpy/core/_asarray.py:16(asarray)\n",
      "        3    0.000    0.000    0.000    0.000 {built-in method builtins.issubclass}\n",
      "        1    0.000    0.000    0.000    0.000 /opt/conda/lib/python3.6/site-packages/numpy/linalg/linalg.py:111(get_linalg_error_extobj)\n",
      "        1    0.000    0.000    0.000    0.000 /opt/conda/lib/python3.6/site-packages/numpy/linalg/linalg.py:203(_assert_stacked_2d)\n",
      "        1    0.000    0.000    0.000    0.000 /opt/conda/lib/python3.6/site-packages/numpy/linalg/linalg.py:209(_assert_stacked_square)\n",
      "        1    0.000    0.000    0.000    0.000 {method 'reshape' of 'numpy.ndarray' objects}\n",
      "        1    0.000    0.000    0.000    0.000 {built-in method builtins.getattr}\n",
      "        1    0.000    0.000    0.000    0.000 {built-in method builtins.len}\n",
      "        1    0.000    0.000    0.000    0.000 {method 'get' of 'dict' objects}\n",
      "        1    0.000    0.000    0.000    0.000 {built-in method numpy.array}\n",
      "        1    0.000    0.000    0.000    0.000 /opt/conda/lib/python3.6/site-packages/numpy/linalg/linalg.py:478(_unary_dispatcher)\n",
      "        1    0.000    0.000    0.000    0.000 {method '__array_prepare__' of 'numpy.ndarray' objects}\n",
      "        1    0.000    0.000    0.000    0.000 {method 'disable' of '_lsprof.Profiler' objects}\n",
      "\n",
      "\n"
     ]
    }
   ],
   "source": [
    "import pstats\n",
    "p = pstats.Stats('sghmc1.prof')\n",
    "p.sort_stats('tottime').print_stats()\n",
    "pass"
   ]
  },
  {
   "cell_type": "code",
   "execution_count": 31,
   "metadata": {},
   "outputs": [],
   "source": [
    "def sghmc_with_grad(U_grad, theta_init, M, C, V_hat, epsilon, T, m):\n",
    "    \"\"\"\n",
    "    Stochastic Gradient Hamiltonian Monte Carlo Sampling.\n",
    "    Based on Chen, Tianqi, Emily Fox, and Carlos Guestrin (2014)\n",
    "    \"\"\"\n",
    "    d = len(theta_init)\n",
    "    theta_s = np.zeros((T, d))\n",
    "    r_s = np.zeros((T, d))\n",
    "    theta_s[0] = theta_init\n",
    "    M_inv = np.linalg.inv(M)\n",
    "    B_hat = 0.5*epsilon*V_hat\n",
    "    \n",
    "    if d > 1:\n",
    "        sd = np.linalg.cholesky(2*epsilon*(C-B_hat))\n",
    "        r_s = np.random.multivariate_normal(np.zeros(d),M, size = T)\n",
    "    elif d==1:\n",
    "        sd = np.sqrt(2*epsilon*(C-B_hat))\n",
    "        r_s = np.sqrt(M)*np.random.randn(T).reshape(T,1)\n",
    "    \n",
    "    for t in range(T-1):\n",
    "        theta0 = theta_s[t]\n",
    "        r0 = r_s[t]\n",
    "        for i in range(m):\n",
    "            theta0 = theta0 + epsilon*M_inv@r0\n",
    "            r0 = r0 - epsilon*U_grad(theta0) - epsilon*C@M_inv@r0 + sd@np.random.randn(d)\n",
    "        theta_s[t+1] = theta0\n",
    "    \n",
    "    return [theta_s,r_s]"
   ]
  },
  {
   "cell_type": "code",
   "execution_count": 33,
   "metadata": {},
   "outputs": [
    {
     "name": "stdout",
     "output_type": "stream",
     "text": [
      " \n",
      "*** Profile stats marshalled to file 'sghmc2.prof'. \n"
     ]
    }
   ],
   "source": [
    "%prun -q -D sghmc2.prof sghmc_with_grad(gradU, theta_init, M, C, V_hat, epsilon, T, m)"
   ]
  },
  {
   "cell_type": "code",
   "execution_count": 34,
   "metadata": {},
   "outputs": [
    {
     "name": "stdout",
     "output_type": "stream",
     "text": [
      "Sun Apr 25 19:31:53 2021    sghmc2.prof\n",
      "\n",
      "         999930 function calls in 13.951 seconds\n",
      "\n",
      "   Ordered by: internal time\n",
      "\n",
      "   ncalls  tottime  percall  cumtime  percall filename:lineno(function)\n",
      "        1    8.921    8.921   13.951   13.951 <ipython-input-31-247da866bc42>:1(sghmc_with_grad)\n",
      "   499950    3.742    0.000    3.742    0.000 <ipython-input-28-aa50056b54bc>:3(<lambda>)\n",
      "   499951    1.289    0.000    1.289    0.000 {method 'randn' of 'numpy.random.mtrand.RandomState' objects}\n",
      "        2    0.000    0.000    0.000    0.000 {built-in method numpy.zeros}\n",
      "        1    0.000    0.000    0.000    0.000 /opt/conda/lib/python3.6/site-packages/numpy/linalg/linalg.py:482(inv)\n",
      "        1    0.000    0.000   13.951   13.951 {built-in method builtins.exec}\n",
      "        1    0.000    0.000    0.000    0.000 /opt/conda/lib/python3.6/site-packages/numpy/linalg/linalg.py:144(_commonType)\n",
      "        1    0.000    0.000   13.951   13.951 <string>:1(<module>)\n",
      "        1    0.000    0.000    0.000    0.000 /opt/conda/lib/python3.6/site-packages/numpy/linalg/linalg.py:116(_makearray)\n",
      "        1    0.000    0.000    0.000    0.000 <__array_function__ internals>:2(inv)\n",
      "        1    0.000    0.000    0.000    0.000 {method 'astype' of 'numpy.ndarray' objects}\n",
      "        1    0.000    0.000    0.000    0.000 {built-in method numpy.core._multiarray_umath.implement_array_function}\n",
      "        3    0.000    0.000    0.000    0.000 {built-in method builtins.issubclass}\n",
      "        2    0.000    0.000    0.000    0.000 /opt/conda/lib/python3.6/site-packages/numpy/linalg/linalg.py:121(isComplexType)\n",
      "        1    0.000    0.000    0.000    0.000 /opt/conda/lib/python3.6/site-packages/numpy/linalg/linalg.py:134(_realType)\n",
      "        1    0.000    0.000    0.000    0.000 /opt/conda/lib/python3.6/site-packages/numpy/linalg/linalg.py:111(get_linalg_error_extobj)\n",
      "        1    0.000    0.000    0.000    0.000 /opt/conda/lib/python3.6/site-packages/numpy/linalg/linalg.py:203(_assert_stacked_2d)\n",
      "        1    0.000    0.000    0.000    0.000 /opt/conda/lib/python3.6/site-packages/numpy/linalg/linalg.py:209(_assert_stacked_square)\n",
      "        1    0.000    0.000    0.000    0.000 /opt/conda/lib/python3.6/site-packages/numpy/core/_asarray.py:16(asarray)\n",
      "        1    0.000    0.000    0.000    0.000 {method 'reshape' of 'numpy.ndarray' objects}\n",
      "        1    0.000    0.000    0.000    0.000 {built-in method numpy.array}\n",
      "        1    0.000    0.000    0.000    0.000 {built-in method builtins.getattr}\n",
      "        1    0.000    0.000    0.000    0.000 {built-in method builtins.len}\n",
      "        1    0.000    0.000    0.000    0.000 {method 'get' of 'dict' objects}\n",
      "        1    0.000    0.000    0.000    0.000 /opt/conda/lib/python3.6/site-packages/numpy/linalg/linalg.py:478(_unary_dispatcher)\n",
      "        1    0.000    0.000    0.000    0.000 {method '__array_prepare__' of 'numpy.ndarray' objects}\n",
      "        1    0.000    0.000    0.000    0.000 {method 'disable' of '_lsprof.Profiler' objects}\n",
      "\n",
      "\n"
     ]
    }
   ],
   "source": [
    "import pstats\n",
    "p = pstats.Stats('sghmc2.prof')\n",
    "p.sort_stats('tottime').print_stats()\n",
    "pass"
   ]
  },
  {
   "cell_type": "code",
   "execution_count": 35,
   "metadata": {},
   "outputs": [],
   "source": [
    "def sghmc_with_grad_numba1(U_grad, theta_init, M, C, V_hat, epsilon, T, m):\n",
    "    \"\"\"\n",
    "    Stochastic Gradient Hamiltonian Monte Carlo Sampling.\n",
    "    Based on Chen, Tianqi, Emily Fox, and Carlos Guestrin (2014)\n",
    "    \"\"\"\n",
    "    d = len(theta_init)\n",
    "    theta_s = np.zeros((T, d))\n",
    "    r_s = np.zeros((T, d))\n",
    "    theta_s[0] = theta_init\n",
    "    M_inv = np.linalg.inv(M)\n",
    "    B_hat = 0.5*epsilon*V_hat\n",
    "    \n",
    "    if d > 1:\n",
    "        sd = np.linalg.cholesky(2*epsilon*(C-B_hat))\n",
    "        r_s = np.random.multivariate_normal(np.zeros(d),M, size = T)\n",
    "    elif d==1:\n",
    "        sd = np.sqrt(2*epsilon*(C-B_hat))\n",
    "        r_s = np.sqrt(M)*np.random.randn(T).reshape(T,1)\n",
    "    \n",
    "    U_grad_jit = numba.njit(U_grad)\n",
    "    \n",
    "    for t in range(T-1):\n",
    "        theta0 = theta_s[t]\n",
    "        r0 = r_s[t]\n",
    "        for i in range(m):\n",
    "            theta0 = theta0 + epsilon*M_inv@r0\n",
    "            r0 = r0 - epsilon*U_grad_jit(theta0) - epsilon*C@M_inv@r0 + sd@np.random.randn(d)\n",
    "        theta_s[t+1] = theta0\n",
    "    \n",
    "    return [theta_s,r_s]"
   ]
  },
  {
   "cell_type": "code",
   "execution_count": 37,
   "metadata": {},
   "outputs": [
    {
     "name": "stdout",
     "output_type": "stream",
     "text": [
      "8.68 s ± 44.7 ms per loop (mean ± std. dev. of 7 runs, 1 loop each)\n"
     ]
    }
   ],
   "source": [
    "%%timeit\n",
    "theta, r = sghmc_with_grad_numba1(gradU, theta_init, M, C, V_hat, epsilon, T, m)"
   ]
  },
  {
   "cell_type": "code",
   "execution_count": 40,
   "metadata": {},
   "outputs": [],
   "source": [
    "def sghmc_with_grad_numba2(U_grad, theta_init, M, C, V_hat, epsilon, T, m):\n",
    "    \"\"\"\n",
    "    Stochastic Gradient Hamiltonian Monte Carlo Sampling.\n",
    "    Based on Chen, Tianqi, Emily Fox, and Carlos Guestrin (2014)\n",
    "    \"\"\"\n",
    "    d = len(theta_init)\n",
    "    theta_s = np.zeros((T, d))\n",
    "    r_s = np.zeros((T, d))\n",
    "    theta_s[0] = theta_init\n",
    "    M_inv = np.linalg.inv(M)\n",
    "    B_hat = 0.5*epsilon*V_hat\n",
    "    \n",
    "    if d > 1:\n",
    "        sd = np.linalg.cholesky(2*epsilon*(C-B_hat))\n",
    "        r_s = np.random.multivariate_normal(np.zeros(d),M, size = T)\n",
    "    elif d==1:\n",
    "        sd = np.sqrt(2*epsilon*(C-B_hat))\n",
    "        r_s = np.sqrt(M)*np.random.randn(T).reshape(T,1)\n",
    "    \n",
    "    U_grad_jit = numba.njit(U_grad)\n",
    "    \n",
    "    @numba.njit\n",
    "    def update(x,y):\n",
    "        x = x + epsilon*M_inv@y\n",
    "        y = y - epsilon*U_grad_jit(x) - epsilon*C@M_inv@y + sd@np.random.randn(d)\n",
    "        return [x,y]\n",
    "    \n",
    "    for t in range(T-1):\n",
    "        theta0 = theta_s[t]\n",
    "        r0 = r_s[t]\n",
    "        for i in range(m):\n",
    "            theta0, r0 = update(theta0, r0)\n",
    "        theta_s[t+1] = theta0\n",
    "    \n",
    "    return [theta_s,r_s]"
   ]
  },
  {
   "cell_type": "code",
   "execution_count": 41,
   "metadata": {},
   "outputs": [
    {
     "name": "stdout",
     "output_type": "stream",
     "text": [
      "1.96 s ± 18.6 ms per loop (mean ± std. dev. of 7 runs, 1 loop each)\n"
     ]
    }
   ],
   "source": [
    "%%timeit\n",
    "theta, r = sghmc_with_grad_numba2(gradU, theta_init, M, C, V_hat, epsilon, T, m)"
   ]
  },
  {
   "cell_type": "code",
   "execution_count": null,
   "metadata": {},
   "outputs": [],
   "source": []
  },
  {
   "cell_type": "code",
   "execution_count": null,
   "metadata": {},
   "outputs": [],
   "source": []
  },
  {
   "cell_type": "code",
   "execution_count": null,
   "metadata": {},
   "outputs": [],
   "source": []
  },
  {
   "cell_type": "code",
   "execution_count": 53,
   "metadata": {},
   "outputs": [],
   "source": [
    "def U_grad_tilde(theta, data, logp_data_grad, logp_prior_grad, mb_size):\n",
    "    \"\"\"\n",
    "    Stochastic gradient estimates of posterior density with respect to distribution parameters\n",
    "    Based on a minibatch D_hat sampled uniformly at random from D\n",
    "    ------------------------\n",
    "    \n",
    "    Dimensions\n",
    "    -----------\n",
    "    n: number of observations from the data\n",
    "    m: dimension of the data\n",
    "\n",
    "    Input\n",
    "    -----\n",
    "    D: n-by-m np array\n",
    "        Dataset\n",
    "        \n",
    "    logp_data_grad: callable 'logp_data_grad(data, theta)'\n",
    "        Gradient of likelihood of the data with respect to distribution parameters\n",
    "    \n",
    "    logp_prior_grad: callable 'logp_prior_grad(theta)'\n",
    "        Gradient of prior with respect to distribution parameters\n",
    "    \n",
    "    mb_size: int\n",
    "        Size of the minibatch\n",
    "    \n",
    "    theta: d-by-1 np array\n",
    "        Distribution parameters\n",
    "    \n",
    "    Output\n",
    "    -----\n",
    "    U_tilde: d-by-1 np array\n",
    "        Stochastic gradient estimates of posterior density with respect to distribution parameters\n",
    "    \"\"\"\n",
    "    n = data.shape[0]\n",
    "    data_hat = data[np.random.choice(range(n), size = mb_size, replace = False)]\n",
    "    U_tilde = -(n/mb_size)*logp_data_grad(data_hat, theta) - logp_prior_grad(theta)\n",
    "    return U_tilde"
   ]
  },
  {
   "cell_type": "code",
   "execution_count": 67,
   "metadata": {},
   "outputs": [],
   "source": [
    "def sghmc_with_data(data, logp_data_grad, logp_prior_grad, mb_size, theta_init, M, C, V_hat, epsilon, T, m):\n",
    "    \"\"\"\n",
    "    Stochastic Gradient Hamiltonian Monte Carlo Sampling.\n",
    "    Based on Chen, Tianqi, Emily Fox, and Carlos Guestrin (2014)\n",
    "    \"\"\"\n",
    "    d = theta_init.shape[0]\n",
    "    theta_s = np.zeros((T, d))\n",
    "    r_s = np.zeros((T, d))\n",
    "    theta_s[0] = theta_init\n",
    "    M_inv = np.linalg.inv(M)\n",
    "    B_hat = 0.5*epsilon*V_hat\n",
    "    \n",
    "    \n",
    "    n = data.shape[0]\n",
    "    data_hat = data[np.random.choice(range(n), size = mb_size, replace = False)]\n",
    "    \n",
    "    if d > 1:\n",
    "        sd = np.linalg.cholesky(2*epsilon*(C-B_hat))\n",
    "        r_s = np.random.multivariate_normal(np.zeros(d),M, size = T)\n",
    "    elif d==1:\n",
    "        sd = np.sqrt(2*epsilon*(C-B_hat))\n",
    "        r_s = np.sqrt(M)*np.random.randn(T).reshape(T,1)\n",
    "\n",
    "    \n",
    "    for t in range(T-1):\n",
    "        theta0 = theta_s[t]\n",
    "        r0 = r_s[t]\n",
    "        for i in range(m):\n",
    "            theta0 = theta0 + epsilon*M_inv@r0\n",
    "            r0 = r0 + epsilon*((n/mb_size)*logp_data_grad(data_hat, theta0) +logp_prior_grad(theta0)) - epsilon*C@M_inv@r0 + sd@np.random.randn(d)\n",
    "    \n",
    "    return [theta_s,r_s]"
   ]
  },
  {
   "cell_type": "code",
   "execution_count": 68,
   "metadata": {},
   "outputs": [],
   "source": [
    "p = 5\n",
    "true_theta = np.arange(p)\n",
    "size = 10000\n",
    "X = np.random.randn(size,p)\n",
    "y = np.dot(X,true_theta) + np.random.randn(size)\n",
    "data = np.c_[y,X]\n",
    "\n",
    "theta_init = np.zeros(p)\n",
    "M = np.eye(p)\n",
    "C = 13*np.eye(p)\n",
    "V_hat = 0\n",
    "T = 1000\n",
    "m = 50\n",
    "epsilon = 0.0001\n",
    "mb_size=1000"
   ]
  },
  {
   "cell_type": "code",
   "execution_count": 69,
   "metadata": {},
   "outputs": [],
   "source": [
    "logp_prior_grad = lambda theta: -theta # prior N(0,1)\n",
    "\n",
    "def logp_data_grad(data, theta):\n",
    "    \"\"\"\n",
    "    log likelihood of a linear regression \n",
    "    --------------\n",
    "    \n",
    "    Assume that the first column of the data is the predicted variable\n",
    "    \"\"\"\n",
    "    X = data[:,1:]\n",
    "    y = data[:,0]\n",
    "    return X.T@y - X.T@X@theta"
   ]
  },
  {
   "cell_type": "code",
   "execution_count": 54,
   "metadata": {},
   "outputs": [],
   "source": [
    "gradU = partial(U_grad_tilde, data=data, logp_data_grad=logp_data_grad, logp_prior_grad=logp_prior_grad, mb_size=1000)"
   ]
  },
  {
   "cell_type": "code",
   "execution_count": 55,
   "metadata": {},
   "outputs": [
    {
     "name": "stdout",
     "output_type": "stream",
     "text": [
      "CPU times: user 1min 21s, sys: 228 ms, total: 1min 22s\n",
      "Wall time: 1min 21s\n"
     ]
    }
   ],
   "source": [
    "%%time\n",
    "theta5, r5 = sghmc_with_grad(gradU, theta_init, M, C, V_hat, epsilon, T, m)"
   ]
  },
  {
   "cell_type": "code",
   "execution_count": 72,
   "metadata": {},
   "outputs": [
    {
     "name": "stdout",
     "output_type": "stream",
     "text": [
      "2.12 s ± 46.5 ms per loop (mean ± std. dev. of 7 runs, 1 loop each)\n"
     ]
    }
   ],
   "source": [
    "%%timeit\n",
    "theta, r = sghmc_with_data(data, logp_data_grad, logp_prior_grad, mb_size, theta_init, M, C, V_hat, epsilon, T, m)"
   ]
  },
  {
   "cell_type": "code",
   "execution_count": 70,
   "metadata": {},
   "outputs": [
    {
     "name": "stdout",
     "output_type": "stream",
     "text": [
      " \n",
      "*** Profile stats marshalled to file 'sghmc3.prof'. \n"
     ]
    }
   ],
   "source": [
    "%prun -q -D sghmc3.prof sghmc_with_data(data, logp_data_grad, logp_prior_grad, mb_size, theta_init, M, C, V_hat, epsilon, T, m)"
   ]
  },
  {
   "cell_type": "code",
   "execution_count": 71,
   "metadata": {
    "scrolled": false
   },
   "outputs": [
    {
     "name": "stdout",
     "output_type": "stream",
     "text": [
      "Sun Apr 25 20:34:52 2021    sghmc3.prof\n",
      "\n",
      "         149996 function calls (149991 primitive calls) in 2.541 seconds\n",
      "\n",
      "   Ordered by: internal time\n",
      "\n",
      "   ncalls  tottime  percall  cumtime  percall filename:lineno(function)\n",
      "    49950    1.191    0.000    1.191    0.000 <ipython-input-69-b807f05dee81>:3(logp_data_grad)\n",
      "        1    1.027    1.027    2.541    2.541 <ipython-input-67-44e6294cb69c>:1(sghmc_with_data)\n",
      "    49950    0.240    0.000    0.240    0.000 {method 'randn' of 'numpy.random.mtrand.RandomState' objects}\n",
      "    49950    0.080    0.000    0.080    0.000 <ipython-input-69-b807f05dee81>:1(<lambda>)\n",
      "        1    0.002    0.002    0.002    0.002 {method 'choice' of 'numpy.random.mtrand.RandomState' objects}\n",
      "        1    0.001    0.001    0.001    0.001 {method 'multivariate_normal' of 'numpy.random.mtrand.RandomState' objects}\n",
      "        1    0.000    0.000    0.000    0.000 /opt/conda/lib/python3.6/site-packages/numpy/linalg/linalg.py:482(inv)\n",
      "     11/6    0.000    0.000    0.001    0.000 {built-in method numpy.core._multiarray_umath.implement_array_function}\n",
      "        1    0.000    0.000    0.000    0.000 /opt/conda/lib/python3.6/site-packages/scipy/linalg/decomp_svd.py:16(svd)\n",
      "        3    0.000    0.000    0.000    0.000 {built-in method numpy.zeros}\n",
      "        5    0.000    0.000    0.000    0.000 {method 'reduce' of 'numpy.ufunc' objects}\n",
      "        1    0.000    0.000    2.541    2.541 {built-in method builtins.exec}\n",
      "        4    0.000    0.000    0.000    0.000 /opt/conda/lib/python3.6/site-packages/numpy/core/fromnumeric.py:73(_wrapreduction)\n",
      "        1    0.000    0.000    0.000    0.000 /opt/conda/lib/python3.6/site-packages/numpy/linalg/linalg.py:674(cholesky)\n",
      "        1    0.000    0.000    0.000    0.000 /opt/conda/lib/python3.6/site-packages/numpy/core/numeric.py:2244(within_tol)\n",
      "        1    0.000    0.000    0.000    0.000 /opt/conda/lib/python3.6/site-packages/numpy/core/numeric.py:2167(isclose)\n",
      "        1    0.000    0.000    0.000    0.000 /opt/conda/lib/python3.6/site-packages/scipy/_lib/_util.py:200(_asarray_validated)\n",
      "        1    0.000    0.000    0.000    0.000 /opt/conda/lib/python3.6/site-packages/scipy/linalg/lapack.py:784(_compute_lwork)\n",
      "        2    0.000    0.000    0.000    0.000 /opt/conda/lib/python3.6/site-packages/numpy/linalg/linalg.py:144(_commonType)\n",
      "        2    0.000    0.000    0.000    0.000 /opt/conda/lib/python3.6/site-packages/numpy/core/_ufunc_config.py:39(seterr)\n",
      "        1    0.000    0.000    0.000    0.000 /opt/conda/lib/python3.6/site-packages/numpy/lib/function_base.py:435(asarray_chkfinite)\n",
      "        1    0.000    0.000    0.000    0.000 <__array_function__ internals>:2(allclose)\n",
      "        2    0.000    0.000    0.000    0.000 /opt/conda/lib/python3.6/site-packages/numpy/linalg/linalg.py:116(_makearray)\n",
      "        6    0.000    0.000    0.000    0.000 {built-in method numpy.array}\n",
      "        3    0.000    0.000    0.000    0.000 <__array_function__ internals>:2(all)\n",
      "        2    0.000    0.000    0.000    0.000 /opt/conda/lib/python3.6/site-packages/numpy/core/_ufunc_config.py:139(geterr)\n",
      "        2    0.000    0.000    0.000    0.000 <__array_function__ internals>:2(dot)\n",
      "        1    0.000    0.000    2.541    2.541 <string>:1(<module>)\n",
      "        3    0.000    0.000    0.000    0.000 /opt/conda/lib/python3.6/site-packages/numpy/core/fromnumeric.py:2324(all)\n",
      "        2    0.000    0.000    0.000    0.000 {method 'astype' of 'numpy.ndarray' objects}\n",
      "        4    0.000    0.000    0.000    0.000 {built-in method builtins.getattr}\n",
      "        1    0.000    0.000    0.000    0.000 <__array_function__ internals>:2(inv)\n",
      "        4    0.000    0.000    0.000    0.000 /opt/conda/lib/python3.6/site-packages/numpy/linalg/linalg.py:121(isComplexType)\n",
      "        1    0.000    0.000    0.000    0.000 /opt/conda/lib/python3.6/site-packages/numpy/core/fromnumeric.py:2843(prod)\n",
      "        1    0.000    0.000    0.000    0.000 /opt/conda/lib/python3.6/site-packages/numpy/core/numeric.py:2091(allclose)\n",
      "        2    0.000    0.000    0.000    0.000 {built-in method builtins.abs}\n",
      "        3    0.000    0.000    0.000    0.000 {method 'get' of 'dict' objects}\n",
      "        1    0.000    0.000    0.000    0.000 <__array_function__ internals>:2(prod)\n",
      "        3    0.000    0.000    0.000    0.000 /opt/conda/lib/python3.6/site-packages/numpy/core/_asarray.py:16(asarray)\n",
      "        6    0.000    0.000    0.000    0.000 {built-in method builtins.issubclass}\n",
      "        1    0.000    0.000    0.000    0.000 /opt/conda/lib/python3.6/site-packages/scipy/linalg/blas.py:372(getter)\n",
      "        1    0.000    0.000    0.000    0.000 /opt/conda/lib/python3.6/site-packages/scipy/linalg/lapack.py:817(_check_work_float)\n",
      "        2    0.000    0.000    0.000    0.000 /opt/conda/lib/python3.6/site-packages/numpy/linalg/linalg.py:134(_realType)\n",
      "        1    0.000    0.000    0.000    0.000 /opt/conda/lib/python3.6/site-packages/numpy/core/_ufunc_config.py:437(__init__)\n",
      "        1    0.000    0.000    0.000    0.000 /opt/conda/lib/python3.6/site-packages/numpy/core/_ufunc_config.py:441(__enter__)\n",
      "        4    0.000    0.000    0.000    0.000 /opt/conda/lib/python3.6/site-packages/numpy/core/fromnumeric.py:74(<dictcomp>)\n",
      "        4    0.000    0.000    0.000    0.000 {method 'items' of 'dict' objects}\n",
      "        1    0.000    0.000    0.000    0.000 /opt/conda/lib/python3.6/site-packages/scipy/sparse/base.py:1192(isspmatrix)\n",
      "        1    0.000    0.000    0.000    0.000 <__array_function__ internals>:2(cholesky)\n",
      "        2    0.000    0.000    0.000    0.000 /opt/conda/lib/python3.6/site-packages/numpy/linalg/linalg.py:111(get_linalg_error_extobj)\n",
      "        1    0.000    0.000    0.000    0.000 /opt/conda/lib/python3.6/site-packages/numpy/core/_ufunc_config.py:446(__exit__)\n",
      "        1    0.000    0.000    0.000    0.000 <__array_function__ internals>:2(result_type)\n",
      "        2    0.000    0.000    0.000    0.000 /opt/conda/lib/python3.6/site-packages/numpy/core/_asarray.py:88(asanyarray)\n",
      "        3    0.000    0.000    0.000    0.000 {built-in method builtins.isinstance}\n",
      "        2    0.000    0.000    0.000    0.000 /opt/conda/lib/python3.6/site-packages/numpy/linalg/linalg.py:203(_assert_stacked_2d)\n",
      "        2    0.000    0.000    0.000    0.000 /opt/conda/lib/python3.6/site-packages/numpy/linalg/linalg.py:209(_assert_stacked_square)\n",
      "        1    0.000    0.000    0.000    0.000 <__array_function__ internals>:2(isclose)\n",
      "        1    0.000    0.000    0.000    0.000 {method 'all' of 'numpy.ndarray' objects}\n",
      "        4    0.000    0.000    0.000    0.000 {built-in method numpy.geterrobj}\n",
      "        1    0.000    0.000    0.000    0.000 <frozen importlib._bootstrap>:997(_handle_fromlist)\n",
      "        1    0.000    0.000    0.000    0.000 {built-in method builtins.hasattr}\n",
      "        2    0.000    0.000    0.000    0.000 {built-in method builtins.len}\n",
      "        1    0.000    0.000    0.000    0.000 /opt/conda/lib/python3.6/site-packages/numpy/ma/core.py:6293(isMaskedArray)\n",
      "        3    0.000    0.000    0.000    0.000 /opt/conda/lib/python3.6/site-packages/numpy/core/fromnumeric.py:2320(_all_dispatcher)\n",
      "        1    0.000    0.000    0.000    0.000 /opt/conda/lib/python3.6/site-packages/numpy/core/_methods.py:47(_all)\n",
      "        2    0.000    0.000    0.000    0.000 {built-in method numpy.seterrobj}\n",
      "        2    0.000    0.000    0.000    0.000 /opt/conda/lib/python3.6/site-packages/numpy/core/multiarray.py:707(dot)\n",
      "        2    0.000    0.000    0.000    0.000 /opt/conda/lib/python3.6/site-packages/numpy/linalg/linalg.py:478(_unary_dispatcher)\n",
      "        1    0.000    0.000    0.000    0.000 /opt/conda/lib/python3.6/site-packages/numpy/core/numeric.py:2163(_isclose_dispatcher)\n",
      "        2    0.000    0.000    0.000    0.000 {method '__array_prepare__' of 'numpy.ndarray' objects}\n",
      "        1    0.000    0.000    0.000    0.000 {method 'pop' of 'dict' objects}\n",
      "        1    0.000    0.000    0.000    0.000 /opt/conda/lib/python3.6/site-packages/scipy/linalg/misc.py:184(_datacopied)\n",
      "        1    0.000    0.000    0.000    0.000 /opt/conda/lib/python3.6/site-packages/numpy/core/fromnumeric.py:2838(_prod_dispatcher)\n",
      "        1    0.000    0.000    0.000    0.000 /opt/conda/lib/python3.6/site-packages/numpy/core/numeric.py:2087(_allclose_dispatcher)\n",
      "        1    0.000    0.000    0.000    0.000 /opt/conda/lib/python3.6/site-packages/numpy/core/multiarray.py:635(result_type)\n",
      "        1    0.000    0.000    0.000    0.000 {method 'disable' of '_lsprof.Profiler' objects}\n",
      "\n",
      "\n"
     ]
    }
   ],
   "source": [
    "import pstats\n",
    "p = pstats.Stats('sghmc3.prof')\n",
    "p.sort_stats('tottime').print_stats()\n",
    "pass"
   ]
  },
  {
   "cell_type": "code",
   "execution_count": 73,
   "metadata": {},
   "outputs": [],
   "source": [
    "def sghmc_with_data_numba(data, logp_data_grad, logp_prior_grad, mb_size, theta_init, M, C, V_hat, epsilon, T, m):\n",
    "    \"\"\"\n",
    "    Stochastic Gradient Hamiltonian Monte Carlo Sampling.\n",
    "    Based on Chen, Tianqi, Emily Fox, and Carlos Guestrin (2014)\n",
    "    \"\"\"\n",
    "    d = theta_init.shape[0]\n",
    "    theta_s = np.zeros((T, d))\n",
    "    r_s = np.zeros((T, d))\n",
    "    theta_s[0] = theta_init\n",
    "    M_inv = np.linalg.inv(M)\n",
    "    B_hat = 0.5*epsilon*V_hat\n",
    "    \n",
    "    \n",
    "    logp_data_grad_jit = numba.njit(logp_data_grad)\n",
    "    logp_prior_grad_jit = numba.njit(logp_prior_grad)\n",
    "    \n",
    "    n = data.shape[0]\n",
    "    data_hat = data[np.random.choice(range(n), size = mb_size, replace = False)]\n",
    "    \n",
    "    if d > 1:\n",
    "        sd = np.linalg.cholesky(2*epsilon*(C-B_hat))\n",
    "        r_s = np.random.multivariate_normal(np.zeros(d),M, size = T)\n",
    "    elif d==1:\n",
    "        sd = np.sqrt(2*epsilon*(C-B_hat))\n",
    "        r_s = np.sqrt(M)*np.random.randn(T).reshape(T,1)\n",
    "    \n",
    "    @numba.njit\n",
    "    def update(x,y):\n",
    "        x = x + epsilon*M_inv@y\n",
    "        y = y + epsilon*((n/mb_size)*logp_data_grad_jit(data_hat, x) +logp_prior_grad_jit(x)) - epsilon*C@M_inv@y + sd@np.random.randn(d)\n",
    "        return [x,y]\n",
    "    \n",
    "    for t in range(T-1):\n",
    "        theta0 = theta_s[t]\n",
    "        r0 = r_s[t]\n",
    "        for i in range(m):\n",
    "            theta0, r0 = update(theta0, r0)\n",
    "        theta_s[t+1] = theta0\n",
    "    \n",
    "    return [theta_s,r_s]"
   ]
  },
  {
   "cell_type": "code",
   "execution_count": 74,
   "metadata": {},
   "outputs": [
    {
     "name": "stderr",
     "output_type": "stream",
     "text": [
      "<ipython-input-73-7f9c7a93f67c>:30: NumbaPerformanceWarning: '@' is faster on contiguous arrays, called on (readonly array(float64, 2d, A), readonly array(float64, 1d, A))\n",
      "  y = y + epsilon*((n/mb_size)*logp_data_grad_jit(data_hat, x) +logp_prior_grad_jit(x)) - epsilon*C@M_inv@y + sd@np.random.randn(d)\n",
      "<ipython-input-73-7f9c7a93f67c>:30: NumbaPerformanceWarning: '@' is faster on contiguous arrays, called on (readonly array(float64, 2d, A), readonly array(float64, 2d, A))\n",
      "  y = y + epsilon*((n/mb_size)*logp_data_grad_jit(data_hat, x) +logp_prior_grad_jit(x)) - epsilon*C@M_inv@y + sd@np.random.randn(d)\n"
     ]
    },
    {
     "name": "stdout",
     "output_type": "stream",
     "text": [
      "CPU times: user 3.35 s, sys: 284 ms, total: 3.64 s\n",
      "Wall time: 3.17 s\n"
     ]
    }
   ],
   "source": [
    "%%time\n",
    "theta, r = sghmc_with_data_numba(data, logp_data_grad, logp_prior_grad, mb_size, theta_init, M, C, V_hat, epsilon, T, m)"
   ]
  },
  {
   "cell_type": "code",
   "execution_count": 75,
   "metadata": {},
   "outputs": [],
   "source": [
    "p = 5\n",
    "true_theta = np.arange(p)\n",
    "size = 10000\n",
    "X = np.random.randn(size,p)\n",
    "y = np.dot(X,true_theta) + np.random.randn(size)\n",
    "data = np.c_[y,X]\n",
    "\n",
    "theta_init = np.zeros(p)\n",
    "M = np.eye(p)\n",
    "C = 13*np.eye(p)\n",
    "V_hat = 0\n",
    "T = 10000\n",
    "m = 50\n",
    "epsilon = 0.0001\n",
    "mb_size=1000"
   ]
  },
  {
   "cell_type": "code",
   "execution_count": 76,
   "metadata": {},
   "outputs": [
    {
     "name": "stdout",
     "output_type": "stream",
     "text": [
      "CPU times: user 21.6 s, sys: 664 ms, total: 22.2 s\n",
      "Wall time: 21.3 s\n"
     ]
    }
   ],
   "source": [
    "%%time\n",
    "theta, r = sghmc_with_data(data, logp_data_grad, logp_prior_grad, mb_size, theta_init, M, C, V_hat, epsilon, T, m)"
   ]
  },
  {
   "cell_type": "code",
   "execution_count": 77,
   "metadata": {},
   "outputs": [
    {
     "name": "stderr",
     "output_type": "stream",
     "text": [
      "<ipython-input-73-7f9c7a93f67c>:30: NumbaPerformanceWarning: '@' is faster on contiguous arrays, called on (readonly array(float64, 2d, A), readonly array(float64, 1d, A))\n",
      "  y = y + epsilon*((n/mb_size)*logp_data_grad_jit(data_hat, x) +logp_prior_grad_jit(x)) - epsilon*C@M_inv@y + sd@np.random.randn(d)\n",
      "<ipython-input-73-7f9c7a93f67c>:30: NumbaPerformanceWarning: '@' is faster on contiguous arrays, called on (readonly array(float64, 2d, A), readonly array(float64, 2d, A))\n",
      "  y = y + epsilon*((n/mb_size)*logp_data_grad_jit(data_hat, x) +logp_prior_grad_jit(x)) - epsilon*C@M_inv@y + sd@np.random.randn(d)\n"
     ]
    },
    {
     "name": "stdout",
     "output_type": "stream",
     "text": [
      "CPU times: user 19.4 s, sys: 416 ms, total: 19.8 s\n",
      "Wall time: 19.1 s\n"
     ]
    }
   ],
   "source": [
    "%%time\n",
    "theta, r = sghmc_with_data_numba(data, logp_data_grad, logp_prior_grad, mb_size, theta_init, M, C, V_hat, epsilon, T, m)"
   ]
  },
  {
   "cell_type": "code",
   "execution_count": null,
   "metadata": {},
   "outputs": [],
   "source": []
  }
 ],
 "metadata": {
  "kernelspec": {
   "display_name": "Python 3",
   "language": "python",
   "name": "python3"
  },
  "language_info": {
   "codemirror_mode": {
    "name": "ipython",
    "version": 3
   },
   "file_extension": ".py",
   "mimetype": "text/x-python",
   "name": "python",
   "nbconvert_exporter": "python",
   "pygments_lexer": "ipython3",
   "version": "3.6.10"
  }
 },
 "nbformat": 4,
 "nbformat_minor": 2
}
